{
 "cells": [
  {
   "cell_type": "markdown",
   "id": "44c5480a",
   "metadata": {},
   "source": [
    "# Проект: Построение дашбордов в Tableau"
   ]
  },
  {
   "cell_type": "markdown",
   "id": "d62d941b",
   "metadata": {},
   "source": [
    "**Описание проекта**\n",
    "\n",
    "TED (от англ. technology, education, design — «технологии, образование, дизайн») — некоммерческий фонд, который проводит популярные конференции. На них выступают специалисты из разных областей и читают лекции на актуальные социальные, культурные и научные темы. \n",
    "В разное время на TED-конференциях выступали математик Бенуа Мандельброт, теоретик искусственного интеллекта Марвин Минский, спортсменка Дана Ньяд и основатель Google Ларри Пейдж. В истории TED также были неоднозначные и даже скандальные выступления. Например, в 2010 году на конференции выступил Рэнди Пауэлл с рассказом о псевдонаучной «вихревой математике», а в 2014 году в конференции TEDMED участвовала Элизабет Холмс — основательница печально известного стартапа Theranos.\n",
    "В этом проекте вы исследуете историю TED-конференций с помощью Tableau."
   ]
  },
  {
   "cell_type": "markdown",
   "id": "8d9f0d82",
   "metadata": {},
   "source": [
    "**Выводы и наблюдения:**\n",
    "    \n",
    "Выводы по истории наблюдений:\n",
    "\n",
    "1. Чаще всего выступления проходили в США (52%), Канаде (19%) и Великобритании  (16%).\n",
    "2. Наиболее популярные категории: технологии, наука и общество.\n",
    "3. В 2020-2021 году из топ-10 категорий выступлений остались только 3: технологии общество и глобальные проблемы.\n",
    "\n",
    "Выводы по тематикам выступлений:\n",
    "\n",
    "1. Наиболее популярные категории: наука, технологии и культура.\n",
    "2. Распределение популярных категорий в разных странах не сильно отличается.\n",
    "3. Категория Развлечений чаще других вызывает аплодисменты, меньше всех аплодируют в категории глобальных проблем.\n",
    "4. Категория других развлечений чаще вызывает смех. Менее всех вызывает категория глобальных проблем.\n",
    "5. Зависимости между длительностью выступления и просмотрами не наблюдается.\n",
    "\n",
    "Выводы по авторам выступлений:\n",
    "\n",
    "1. Преобладающие области деятельности у авторов: писатель, журналист, художник.\n",
    "2. Обычно (88 %) на одного автора приходится одно выступление. Самое большое количество выступлений у Hans Rosling (8 выступлений).\n",
    "3. Среди дизайнеров чаще других выступал Tom Wujec (4 выступления). Меньше всего просмотров у его выступления \"Learn to use the 13th-century astrolabe\".\n",
    "\n",
    "Выводы по категории \"Другие\":\n",
    "\n",
    "1. Количество выступлений в категории \"Другие\" в 2019-2021 годах сократились с 44 до 3. \n",
    "2. В 2019 году выступления были по 13 тематикам, а в 2021 только в 3х: города, экономика и здоровье."
   ]
  },
  {
   "cell_type": "markdown",
   "id": "3bb6f244",
   "metadata": {},
   "source": [
    "Ссылка на презентацию: https://public.tableau.com/views/Tableau_17198433385530/TED-?:language=en-US&publish=yes&:sid=&:redirect=auth&:display_count=n&:origin=viz_share_link"
   ]
  }
 ],
 "metadata": {
  "ExecuteTimeLog": [
   {
    "duration": 71,
    "start_time": "2024-07-05T17:25:16.717Z"
   }
  ],
  "kernelspec": {
   "display_name": "Python 3 (ipykernel)",
   "language": "python",
   "name": "python3"
  },
  "language_info": {
   "codemirror_mode": {
    "name": "ipython",
    "version": 3
   },
   "file_extension": ".py",
   "mimetype": "text/x-python",
   "name": "python",
   "nbconvert_exporter": "python",
   "pygments_lexer": "ipython3",
   "version": "3.11.5"
  },
  "toc": {
   "base_numbering": 1,
   "nav_menu": {},
   "number_sections": true,
   "sideBar": true,
   "skip_h1_title": true,
   "title_cell": "Table of Contents",
   "title_sidebar": "Contents",
   "toc_cell": false,
   "toc_position": {},
   "toc_section_display": true,
   "toc_window_display": false
  },
  "varInspector": {
   "cols": {
    "lenName": 16,
    "lenType": 16,
    "lenVar": 40
   },
   "kernels_config": {
    "python": {
     "delete_cmd_postfix": "",
     "delete_cmd_prefix": "del ",
     "library": "var_list.py",
     "varRefreshCmd": "print(var_dic_list())"
    },
    "r": {
     "delete_cmd_postfix": ") ",
     "delete_cmd_prefix": "rm(",
     "library": "var_list.r",
     "varRefreshCmd": "cat(var_dic_list()) "
    }
   },
   "types_to_exclude": [
    "module",
    "function",
    "builtin_function_or_method",
    "instance",
    "_Feature"
   ],
   "window_display": false
  }
 },
 "nbformat": 4,
 "nbformat_minor": 5
}
